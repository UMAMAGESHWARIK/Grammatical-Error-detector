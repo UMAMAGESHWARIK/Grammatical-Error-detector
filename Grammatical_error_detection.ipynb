{
  "nbformat": 4,
  "nbformat_minor": 0,
  "metadata": {
    "colab": {
      "provenance": []
    },
    "kernelspec": {
      "name": "python3",
      "display_name": "Python 3"
    },
    "language_info": {
      "name": "python"
    }
  },
  "cells": [
    {
      "cell_type": "code",
      "execution_count": 19,
      "metadata": {
        "id": "hrbL2iMqzNeE"
      },
      "outputs": [],
      "source": [
        "import pandas as pd\n",
        "from sklearn.feature_extraction.text import TfidfVectorizer\n",
        "from sklearn.svm import SVC\n",
        "from sklearn.metrics import classification_report\n",
        "from joblib import dump\n",
        "from joblib import load\n"
      ]
    },
    {
      "cell_type": "code",
      "source": [
        "# Load data from a CSV file\n",
        "def load_data_from_test(file_path):\n",
        "    data = pd.read_csv(file_path)\n",
        "    X = data['input'].values\n",
        "    return X\n",
        "\n",
        "\n",
        "# Load data from an csv file\n",
        "def load_data_from_csv(file_path):\n",
        "    data = pd.read_csv(file_path)\n",
        "    X = data['input'].values\n",
        "    y = data['labels'].values\n",
        "    return X, y\n",
        "\n",
        "# Load the trained model\n",
        "def load_model(file_path):\n",
        "    return load(file_path)\n",
        "\n",
        "# Feature extraction (TF-IDF)\n",
        "def extract_features(X_train, X_test):\n",
        "    vectorizer = TfidfVectorizer()\n",
        "    X_train_vectorized = vectorizer.fit_transform(X_train)\n",
        "    X_test_vectorized = vectorizer.transform(X_test)\n",
        "    return X_train_vectorized, X_test_vectorized, vectorizer\n",
        "\n",
        "# Train the model\n",
        "def train_model(X_train_vectorized, y_train):\n",
        "    svm_model = SVC(kernel='linear')\n",
        "    svm_model.fit(X_train_vectorized, y_train)\n",
        "    return svm_model\n",
        "\n",
        "# Evaluate the model\n",
        "def evaluate_model(model, X_test_vectorized, y_test):\n",
        "    y_pred = model.predict(X_test_vectorized)\n",
        "    print(classification_report(y_test, y_pred))\n",
        "\n",
        "# Save the trained model\n",
        "def save_model(model, vectorizer, file_path):\n",
        "    dump({'model': model, 'vectorizer': vectorizer}, file_path)\n"
      ],
      "metadata": {
        "id": "REdU9clrzdfp"
      },
      "execution_count": 22,
      "outputs": []
    },
    {
      "cell_type": "code",
      "source": [
        "# Main function\n",
        "def main():\n",
        "    # Load data from CSV files\n",
        "    train_data_file = '/content/train_data.csv'\n",
        "    val_data_file = '/content/val_data.csv'\n",
        "    X_train, y_train = load_data_from_csv(train_data_file)\n",
        "    X_val, y_val = load_data_from_csv(val_data_file)\n",
        "\n",
        "    # Load test data from Excel file\n",
        "    test_data_file = '/content/test_data.csv'\n",
        "    X_test = load_data_from_test(test_data_file)\n",
        "\n",
        "\n",
        "     # Feature extraction\n",
        "    X_train_vectorized, X_val_vectorized, vectorizer = extract_features(X_train, X_val)\n",
        "\n",
        "    # Train the model\n",
        "    model = train_model(X_train_vectorized, y_train)\n",
        "\n",
        "    # Evaluate the model on the validation set\n",
        "    print(\"Validation Set Evaluation:\")\n",
        "    evaluate_model(model, X_val_vectorized, y_val)\n",
        "\n",
        "    # Vectorize the test sentences\n",
        "    X_test_vectorized = vectorizer.transform(X_test)\n",
        "\n",
        "    # Predict labels for test sentences\n",
        "    y_pred = model.predict(X_test_vectorized)\n",
        "\n",
        "\n",
        "    # Create DataFrame with predicted output\n",
        "    output_df = pd.DataFrame({'Sentence': X_test, 'Predicted Label': y_pred})\n",
        "\n",
        "    # Save predicted output to a CSV file\n",
        "    output_file = 'predicted_output.csv'\n",
        "    output_df.to_csv(output_file, index=False)\n",
        "    print(f\"Predicted output saved to {output_file}\")\n",
        "\n",
        "    # Save the trained model\n",
        "    model_file = 'grammatical_error_detector.joblib'\n",
        "    save_model(model, vectorizer, model_file)\n",
        "    print(f\"Trained model saved to {model_file}\")\n",
        "\n",
        "\n",
        "\n",
        "if __name__ == \"__main__\":\n",
        "    main()"
      ],
      "metadata": {
        "colab": {
          "base_uri": "https://localhost:8080/"
        },
        "id": "mISwH1kFzdcq",
        "outputId": "5d8a61fa-72d8-47e3-a818-74a7bd88d85b"
      },
      "execution_count": 25,
      "outputs": [
        {
          "output_type": "stream",
          "name": "stdout",
          "text": [
            "Validation Set Evaluation:\n",
            "              precision    recall  f1-score   support\n",
            "\n",
            "           0       0.41      0.41      0.41      5000\n",
            "           1       0.40      0.40      0.40      5000\n",
            "\n",
            "    accuracy                           0.41     10000\n",
            "   macro avg       0.40      0.41      0.40     10000\n",
            "weighted avg       0.40      0.41      0.40     10000\n",
            "\n",
            "Predicted output saved to predicted_output.csv\n",
            "Trained model saved to grammatical_error_detector.joblib\n"
          ]
        }
      ]
    }
  ]
}